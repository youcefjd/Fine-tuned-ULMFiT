{
  "nbformat": 4,
  "nbformat_minor": 0,
  "metadata": {
    "colab": {
      "name": "Copy of Embedding ULMFiT.ipynb",
      "provenance": [],
      "include_colab_link": true
    },
    "kernelspec": {
      "name": "python3",
      "display_name": "Python 3"
    },
    "accelerator": "GPU"
  },
  "cells": [
    {
      "cell_type": "markdown",
      "metadata": {
        "id": "view-in-github",
        "colab_type": "text"
      },
      "source": [
        "<a href=\"https://colab.research.google.com/github/youcefjd/heavy_objects/blob/master/Copy_of_Embedding_ULMFiT.ipynb\" target=\"_parent\"><img src=\"https://colab.research.google.com/assets/colab-badge.svg\" alt=\"Open In Colab\"/></a>"
      ]
    },
    {
      "cell_type": "code",
      "metadata": {
        "id": "AwjrG9pKFPhQ",
        "colab_type": "code",
        "colab": {}
      },
      "source": [
        "from fastai import *\n",
        "from fastai.text import *"
      ],
      "execution_count": 0,
      "outputs": []
    },
    {
      "cell_type": "code",
      "metadata": {
        "id": "266fE1YmnSl2",
        "colab_type": "code",
        "colab": {}
      },
      "source": [
        "import umap\n",
        "from PIL import Image\n",
        "import matplotlib.pyplot"
      ],
      "execution_count": 0,
      "outputs": []
    },
    {
      "cell_type": "code",
      "metadata": {
        "id": "ShLe02qk_Bxl",
        "colab_type": "code",
        "colab": {}
      },
      "source": [
        "import scipy.spatial\n",
        "from sklearn.metrics.pairwise import cosine_similarity"
      ],
      "execution_count": 0,
      "outputs": []
    },
    {
      "cell_type": "code",
      "metadata": {
        "id": "eTVTSDpRGB8h",
        "colab_type": "code",
        "outputId": "2f5eb85d-78db-4645-e86e-a2bf237b4050",
        "colab": {
          "base_uri": "https://localhost:8080/",
          "height": 124
        }
      },
      "source": [
        "from google.colab import drive\n",
        "drive.mount('/content/drive')"
      ],
      "execution_count": 0,
      "outputs": [
        {
          "output_type": "stream",
          "text": [
            "Go to this URL in a browser: https://accounts.google.com/o/oauth2/auth?client_id=947318989803-6bn6qk8qdgf4n4g3pfee6491hc0brc4i.apps.googleusercontent.com&redirect_uri=urn%3aietf%3awg%3aoauth%3a2.0%3aoob&response_type=code&scope=email%20https%3a%2f%2fwww.googleapis.com%2fauth%2fdocs.test%20https%3a%2f%2fwww.googleapis.com%2fauth%2fdrive%20https%3a%2f%2fwww.googleapis.com%2fauth%2fdrive.photos.readonly%20https%3a%2f%2fwww.googleapis.com%2fauth%2fpeopleapi.readonly\n",
            "\n",
            "Enter your authorization code:\n",
            "··········\n",
            "Mounted at /content/drive\n"
          ],
          "name": "stdout"
        }
      ]
    },
    {
      "cell_type": "code",
      "metadata": {
        "id": "VmpBx5a-F4v8",
        "colab_type": "code",
        "colab": {}
      },
      "source": [
        "directory_path = '/content/drive/My Drive/Bert Training' ## we will store our data in this drive"
      ],
      "execution_count": 0,
      "outputs": []
    },
    {
      "cell_type": "code",
      "metadata": {
        "id": "joRNpoynFTjV",
        "colab_type": "code",
        "colab": {}
      },
      "source": [
        "dfTrain = pd.read_csv(os.path.join(directory_path,'breitling_watches_new.csv'))\n",
        "dfValid = pd.read_csv(os.path.join(directory_path,'rolex_watches_new.csv'))"
      ],
      "execution_count": 0,
      "outputs": []
    },
    {
      "cell_type": "code",
      "metadata": {
        "id": "JvIHZIR6F0s0",
        "colab_type": "code",
        "colab": {}
      },
      "source": [
        "\n",
        "\n",
        "dfDatasetTrain = pd.DataFrame()\n",
        "dfDatasetTrain['Specs'] = dfTrain['Specs']\n",
        "\n",
        "dfDatasetValid = pd.DataFrame()\n",
        "dfDatasetValid['Specs'] = dfTrain['Specs']\n",
        "\n",
        "dfAll = pd.concat([dfDatasetTrain, dfDatasetValid])\n",
        "dfAll.to_csv('breitling_rolex.csv', index=False)"
      ],
      "execution_count": 0,
      "outputs": []
    },
    {
      "cell_type": "code",
      "metadata": {
        "id": "sZC98udtHdEE",
        "colab_type": "code",
        "outputId": "20564b64-7b91-451a-ba48-17cbe314e7c4",
        "colab": {
          "base_uri": "https://localhost:8080/",
          "height": 198
        }
      },
      "source": [
        "df = pd.read_csv('breitling_rolex.csv') ; df.head()"
      ],
      "execution_count": 0,
      "outputs": [
        {
          "output_type": "execute_result",
          "data": {
            "text/html": [
              "<div>\n",
              "<style scoped>\n",
              "    .dataframe tbody tr th:only-of-type {\n",
              "        vertical-align: middle;\n",
              "    }\n",
              "\n",
              "    .dataframe tbody tr th {\n",
              "        vertical-align: top;\n",
              "    }\n",
              "\n",
              "    .dataframe thead th {\n",
              "        text-align: right;\n",
              "    }\n",
              "</style>\n",
              "<table border=\"1\" class=\"dataframe\">\n",
              "  <thead>\n",
              "    <tr style=\"text-align: right;\">\n",
              "      <th></th>\n",
              "      <th>Specs</th>\n",
              "    </tr>\n",
              "  </thead>\n",
              "  <tbody>\n",
              "    <tr>\n",
              "      <th>0</th>\n",
              "      <td>['Caliber:Breitling 13', 'Movement:self-windin...</td>\n",
              "    </tr>\n",
              "    <tr>\n",
              "      <th>1</th>\n",
              "      <td>['Caliber:Breitling 13', 'Movement:self-windin...</td>\n",
              "    </tr>\n",
              "    <tr>\n",
              "      <th>2</th>\n",
              "      <td>['Caliber:Breitling 13', 'Movement:self-windin...</td>\n",
              "    </tr>\n",
              "    <tr>\n",
              "      <th>3</th>\n",
              "      <td>['Caliber:Breitling 13', 'Movement:self-windin...</td>\n",
              "    </tr>\n",
              "    <tr>\n",
              "      <th>4</th>\n",
              "      <td>['Caliber:Breitling 13', 'Movement:self-windin...</td>\n",
              "    </tr>\n",
              "  </tbody>\n",
              "</table>\n",
              "</div>"
            ],
            "text/plain": [
              "                                               Specs\n",
              "0  ['Caliber:Breitling 13', 'Movement:self-windin...\n",
              "1  ['Caliber:Breitling 13', 'Movement:self-windin...\n",
              "2  ['Caliber:Breitling 13', 'Movement:self-windin...\n",
              "3  ['Caliber:Breitling 13', 'Movement:self-windin...\n",
              "4  ['Caliber:Breitling 13', 'Movement:self-windin..."
            ]
          },
          "metadata": {
            "tags": []
          },
          "execution_count": 9
        }
      ]
    },
    {
      "cell_type": "code",
      "metadata": {
        "id": "yITZ0WgDGkKO",
        "colab_type": "code",
        "outputId": "60256052-2791-42ce-c777-206b317478ff",
        "colab": {
          "base_uri": "https://localhost:8080/",
          "height": 17
        }
      },
      "source": [
        "data_lm = (TextList\n",
        "           .from_csv('', 'breitling_rolex.csv', cols ='Specs')\n",
        "           .split_by_rand_pct(0.2)\n",
        "           .label_for_lm()\n",
        "           .databunch())"
      ],
      "execution_count": 0,
      "outputs": [
        {
          "output_type": "display_data",
          "data": {
            "text/html": [
              ""
            ],
            "text/plain": [
              "<IPython.core.display.HTML object>"
            ]
          },
          "metadata": {
            "tags": []
          }
        },
        {
          "output_type": "display_data",
          "data": {
            "text/html": [
              ""
            ],
            "text/plain": [
              "<IPython.core.display.HTML object>"
            ]
          },
          "metadata": {
            "tags": []
          }
        }
      ]
    },
    {
      "cell_type": "code",
      "metadata": {
        "id": "gjY6TbKsa5r2",
        "colab_type": "code",
        "outputId": "49c7c475-1e93-4096-ea12-e43552e225c1",
        "colab": {
          "base_uri": "https://localhost:8080/",
          "height": 285
        }
      },
      "source": [
        "data_lm.show_batch()"
      ],
      "execution_count": 0,
      "outputs": [
        {
          "output_type": "display_data",
          "data": {
            "text/html": [
              "<table border=\"1\" class=\"dataframe\">\n",
              "  <thead>\n",
              "    <tr style=\"text-align: right;\">\n",
              "      <th>idx</th>\n",
              "      <th>text</th>\n",
              "    </tr>\n",
              "  </thead>\n",
              "  <tbody>\n",
              "    <tr>\n",
              "      <td>0</td>\n",
              "      <td>: xxmaj steel ' , ' xxmaj caseback : xxmaj screwed in ' , ' xxmaj water resistance:200 m ( 660 ft ) ' , ' xxmaj bezel : xxmaj unidirectional , ratcheted ' , ' xxmaj crown : xxmaj screw - locked , two gaskets ' , ' xxmaj crystal : xxmaj cambered sapphire , glareproofed both sides ' , ' xxmaj diameter:42.00 mm ' , ' xxmaj thickness:15.25</td>\n",
              "    </tr>\n",
              "    <tr>\n",
              "      <td>1</td>\n",
              "      <td>( without strap):116.00 g. ' , ' xxmaj lug:23 / 20 mm ' ] xxbos [ ' xxmaj caliber : xxmaj breitling 13 ' , ' xxmaj movement : self - winding mechanical ' , ' xxmaj power reserve : approx . 48 hrs ' , ' xxmaj chronograph:1 / 4th second , 30 minutes , 12 hours ' , ' xxmaj vibration:28,800 v.p.h ' , ' xxmaj jewel:25 jewels</td>\n",
              "    </tr>\n",
              "    <tr>\n",
              "      <td>2</td>\n",
              "      <td>xxmaj water resistance:300 m ( 1,000 ft ) ' , ' xxmaj crown : xxmaj screw - locked , two gaskets ' , ' xxmaj crystal : xxmaj cambered sapphire , glareproofed both sides ' , ' xxmaj diameter:45.00 mm ' , ' xxmaj thickness:16.46 mm ' , ' xxmaj weight ( without strap):240.00 g. ' ] xxbos [ ' xxmaj caliber : xxmaj breitling 13 ' , ' xxmaj</td>\n",
              "    </tr>\n",
              "    <tr>\n",
              "      <td>3</td>\n",
              "      <td>42 hours ' , ' xxmaj chronograph:1 / 4th second , 30 minutes , 12 hours ' , ' xxmaj vibration:28,800 v.p.h ' , ' xxmaj jewel:25 jewels ' , ' xxmaj calendar : xxmaj dial aperture ' , ' xxmaj case : xxmaj steel ' , ' xxmaj caseback : xxmaj screwed in ' , ' xxmaj water resistance:300 m ( 1,000 ft ) ' , ' xxmaj bezel</td>\n",
              "    </tr>\n",
              "    <tr>\n",
              "      <td>4</td>\n",
              "      <td>water resistance:300 m ( 1,000 ft ) ' , ' xxmaj crown : xxmaj screw - locked , two gaskets ' , ' xxmaj crystal : xxmaj cambered sapphire , glareproofed both sides ' , ' xxmaj diameter:43.00 mm ' , ' xxmaj thickness:16.43 mm ' , ' xxmaj weight ( without strap):0.16 g. ' , ' xxmaj lug:22 / 20 mm ' ] xxbos [ ' xxmaj caliber :</td>\n",
              "    </tr>\n",
              "  </tbody>\n",
              "</table>"
            ],
            "text/plain": [
              "<IPython.core.display.HTML object>"
            ]
          },
          "metadata": {
            "tags": []
          }
        }
      ]
    },
    {
      "cell_type": "code",
      "metadata": {
        "id": "DdojB5HAGv0J",
        "colab_type": "code",
        "outputId": "1ce80ed4-83a4-4af2-ee1f-b12a5cc8fad5",
        "colab": {
          "base_uri": "https://localhost:8080/",
          "height": 314
        }
      },
      "source": [
        "learn = language_model_learner(data_lm, AWD_LSTM, drop_mult=0.3)\n",
        "learn.lr_find()\n",
        "learn.recorder.plot()"
      ],
      "execution_count": 0,
      "outputs": [
        {
          "output_type": "stream",
          "text": [
            "Downloading https://s3.amazonaws.com/fast-ai-modelzoo/wt103-fwd\n"
          ],
          "name": "stdout"
        },
        {
          "output_type": "display_data",
          "data": {
            "text/html": [
              ""
            ],
            "text/plain": [
              "<IPython.core.display.HTML object>"
            ]
          },
          "metadata": {
            "tags": []
          }
        },
        {
          "output_type": "display_data",
          "data": {
            "text/html": [
              ""
            ],
            "text/plain": [
              "<IPython.core.display.HTML object>"
            ]
          },
          "metadata": {
            "tags": []
          }
        },
        {
          "output_type": "stream",
          "text": [
            "LR Finder is complete, type {learner_name}.recorder.plot() to see the graph.\n"
          ],
          "name": "stdout"
        },
        {
          "output_type": "display_data",
          "data": {
            "image/png": "[encoded data removed]",
            "text/plain": [
              "<Figure size 432x288 with 1 Axes>"
            ]
          },
          "metadata": {
            "tags": []
          }
        }
      ]
    },
    {
      "cell_type": "code",
      "metadata": {
        "id": "_wJqmF_iHFy1",
        "colab_type": "code",
        "outputId": "cbe4e281-5ca7-4eb6-caae-d3b961999eb7",
        "colab": {
          "base_uri": "https://localhost:8080/",
          "height": 78
        }
      },
      "source": [
        "learn.fit_one_cycle(1, 1e-2)"
      ],
      "execution_count": 0,
      "outputs": [
        {
          "output_type": "display_data",
          "data": {
            "text/html": [
              "<table border=\"1\" class=\"dataframe\">\n",
              "  <thead>\n",
              "    <tr style=\"text-align: left;\">\n",
              "      <th>epoch</th>\n",
              "      <th>train_loss</th>\n",
              "      <th>valid_loss</th>\n",
              "      <th>accuracy</th>\n",
              "      <th>time</th>\n",
              "    </tr>\n",
              "  </thead>\n",
              "  <tbody>\n",
              "    <tr>\n",
              "      <td>0</td>\n",
              "      <td>0.710863</td>\n",
              "      <td>0.213778</td>\n",
              "      <td>0.941286</td>\n",
              "      <td>00:30</td>\n",
              "    </tr>\n",
              "  </tbody>\n",
              "</table>"
            ],
            "text/plain": [
              "<IPython.core.display.HTML object>"
            ]
          },
          "metadata": {
            "tags": []
          }
        }
      ]
    },
    {
      "cell_type": "code",
      "metadata": {
        "id": "WdJvqLLHIlyl",
        "colab_type": "code",
        "colab": {}
      },
      "source": [
        "learn.unfreeze()"
      ],
      "execution_count": 0,
      "outputs": []
    },
    {
      "cell_type": "code",
      "metadata": {
        "id": "LqcN49r8I7Jn",
        "colab_type": "code",
        "outputId": "555a713a-d666-40d0-dc0b-afa404b44bf5",
        "colab": {
          "base_uri": "https://localhost:8080/",
          "height": 296
        }
      },
      "source": [
        "learn.lr_find()\n",
        "learn.recorder.plot()"
      ],
      "execution_count": 0,
      "outputs": [
        {
          "output_type": "display_data",
          "data": {
            "text/html": [
              ""
            ],
            "text/plain": [
              "<IPython.core.display.HTML object>"
            ]
          },
          "metadata": {
            "tags": []
          }
        },
        {
          "output_type": "stream",
          "text": [
            "LR Finder is complete, type {learner_name}.recorder.plot() to see the graph.\n"
          ],
          "name": "stdout"
        },
        {
          "output_type": "display_data",
          "data": {
            "image/png": "[encoded data removed]",
            "text/plain": [
              "<Figure size 432x288 with 1 Axes>"
            ]
          },
          "metadata": {
            "tags": []
          }
        }
      ]
    },
    {
      "cell_type": "code",
      "metadata": {
        "id": "QYCQkhcLI3WU",
        "colab_type": "code",
        "outputId": "8c04c75d-1538-4045-9e44-5cea1310ec82",
        "colab": {
          "base_uri": "https://localhost:8080/",
          "height": 288
        }
      },
      "source": [
        "learn.fit_one_cycle(8, 1e-03, moms=(0.8,0.7))"
      ],
      "execution_count": 0,
      "outputs": [
        {
          "output_type": "display_data",
          "data": {
            "text/html": [
              "<table border=\"1\" class=\"dataframe\">\n",
              "  <thead>\n",
              "    <tr style=\"text-align: left;\">\n",
              "      <th>epoch</th>\n",
              "      <th>train_loss</th>\n",
              "      <th>valid_loss</th>\n",
              "      <th>accuracy</th>\n",
              "      <th>time</th>\n",
              "    </tr>\n",
              "  </thead>\n",
              "  <tbody>\n",
              "    <tr>\n",
              "      <td>0</td>\n",
              "      <td>0.238138</td>\n",
              "      <td>0.169793</td>\n",
              "      <td>0.952000</td>\n",
              "      <td>00:40</td>\n",
              "    </tr>\n",
              "    <tr>\n",
              "      <td>1</td>\n",
              "      <td>0.171411</td>\n",
              "      <td>0.113175</td>\n",
              "      <td>0.967545</td>\n",
              "      <td>00:40</td>\n",
              "    </tr>\n",
              "    <tr>\n",
              "      <td>2</td>\n",
              "      <td>0.109952</td>\n",
              "      <td>0.082161</td>\n",
              "      <td>0.976125</td>\n",
              "      <td>00:40</td>\n",
              "    </tr>\n",
              "    <tr>\n",
              "      <td>3</td>\n",
              "      <td>0.082325</td>\n",
              "      <td>0.077457</td>\n",
              "      <td>0.978304</td>\n",
              "      <td>00:40</td>\n",
              "    </tr>\n",
              "    <tr>\n",
              "      <td>4</td>\n",
              "      <td>0.065559</td>\n",
              "      <td>0.060486</td>\n",
              "      <td>0.982143</td>\n",
              "      <td>00:40</td>\n",
              "    </tr>\n",
              "    <tr>\n",
              "      <td>5</td>\n",
              "      <td>0.058349</td>\n",
              "      <td>0.056482</td>\n",
              "      <td>0.982759</td>\n",
              "      <td>00:40</td>\n",
              "    </tr>\n",
              "    <tr>\n",
              "      <td>6</td>\n",
              "      <td>0.054082</td>\n",
              "      <td>0.054696</td>\n",
              "      <td>0.983312</td>\n",
              "      <td>00:40</td>\n",
              "    </tr>\n",
              "    <tr>\n",
              "      <td>7</td>\n",
              "      <td>0.052142</td>\n",
              "      <td>0.054549</td>\n",
              "      <td>0.983187</td>\n",
              "      <td>00:40</td>\n",
              "    </tr>\n",
              "  </tbody>\n",
              "</table>"
            ],
            "text/plain": [
              "<IPython.core.display.HTML object>"
            ]
          },
          "metadata": {
            "tags": []
          }
        }
      ]
    },
    {
      "cell_type": "code",
      "metadata": {
        "id": "VqneD-y4vz68",
        "colab_type": "code",
        "outputId": "d2f5186f-c92f-48b7-fa7e-4b9fdeff9cc4",
        "colab": {
          "base_uri": "https://localhost:8080/",
          "height": 279
        }
      },
      "source": [
        "learn.recorder.plot_losses()"
      ],
      "execution_count": 0,
      "outputs": [
        {
          "output_type": "display_data",
          "data": {
            "image/png": "[encoded data removed]",
            "text/plain": [
              "<Figure size 432x288 with 1 Axes>"
            ]
          },
          "metadata": {
            "tags": []
          }
        }
      ]
    },
    {
      "cell_type": "code",
      "metadata": {
        "id": "rrdnTwuawrW1",
        "colab_type": "code",
        "outputId": "94cd2945-45fc-4a4b-d5ac-5b82fb9cda43",
        "colab": {
          "base_uri": "https://localhost:8080/",
          "height": 141
        }
      },
      "source": [
        "data_lm.train_ds"
      ],
      "execution_count": 0,
      "outputs": [
        {
          "output_type": "execute_result",
          "data": {
            "text/plain": [
              "LabelList (2877 items)\n",
              "x: LMTextList\n",
              "xxbos [ ' xxmaj caliber : xxmaj breitling 13 ' , ' xxmaj movement : self - winding mechanical ' , ' xxmaj power reserve : approx . 42 hours ' , ' xxmaj chronograph:1 / 4th second , 30 minutes , 12 hours ' , ' xxmaj vibration:28,800 v.p.h ' , ' xxmaj jewel:25 jewels ' , ' xxmaj calendar : xxmaj dial aperture ' , ' xxmaj case : xxmaj steel ' , ' xxmaj caseback : xxmaj screwed in ' , ' xxmaj water resistance:200 m ( 660 ft ) ' , ' xxmaj bezel : xxmaj unidirectional , ratcheted ' , ' xxmaj crown : xxmaj screw - locked , two gaskets ' , ' xxmaj crystal : xxmaj cambered sapphire , glareproofed both sides ' , ' xxmaj diameter:42.00 mm ' , ' xxmaj thickness:15.25 mm ' , ' xxmaj lug:20 / 18 mm ' ],xxbos [ ' xxmaj caliber : xxmaj breitling 13 ' , ' xxmaj movement : self - winding mechanical ' , ' xxmaj power reserve : approx . 42 hours ' , ' xxmaj chronograph:1 / 4th second , 30 minutes , 12 hours ' , ' xxmaj vibration:28,800 v.p.h ' , ' xxmaj jewel:25 jewels ' , ' xxmaj calendar : xxmaj dial aperture ' , ' xxmaj case : xxmaj steel ' , ' xxmaj caseback : xxmaj screwed in ' , ' xxmaj water resistance:200 m ( 660 ft ) ' , ' xxmaj bezel : xxmaj unidirectional , ratcheted ' , ' xxmaj crown : xxmaj screw - locked , two gaskets ' , ' xxmaj crystal : xxmaj cambered sapphire , glareproofed both sides ' , ' xxmaj diameter:42.00 mm ' , ' xxmaj thickness:15.25 mm ' , ' xxmaj weight ( without strap):0.0 g. ' , ' xxmaj lug:20 / 18 mm ' ],xxbos [ ' xxmaj caliber : xxmaj breitling 13 ' , ' xxmaj movement : self - winding mechanical ' , ' xxmaj power reserve : approx . 42 hours ' , ' xxmaj chronograph:1 / 4th second , 30 minutes , 12 hours ' , ' xxmaj vibration:28,800 v.p.h ' , ' xxmaj jewel:25 jewels ' , ' xxmaj calendar : xxmaj dial aperture ' , ' xxmaj case : xxmaj steel ' , ' xxmaj caseback : xxmaj screwed in ' , ' xxmaj water resistance:200 m ( 660 ft ) ' , ' xxmaj bezel : xxmaj unidirectional , ratcheted ' , ' xxmaj crown : xxmaj screw - locked , two gaskets ' , ' xxmaj crystal : xxmaj cambered sapphire , glareproofed both sides ' , ' xxmaj diameter:42.00 mm ' , ' xxmaj thickness:15.25 mm ' , ' xxmaj lug:20 / 18 mm ' ],xxbos [ ' xxmaj caliber : xxmaj breitling 13 ' , ' xxmaj movement : self - winding mechanical ' , ' xxmaj power reserve : approx . 42 hours ' , ' xxmaj chronograph:1 / 4th second , 30 minutes , 12 hours ' , ' xxmaj vibration:28,800 v.p.h ' , ' xxmaj jewel:25 jewels ' , ' xxmaj calendar : xxmaj dial aperture ' , ' xxmaj case : xxmaj steel ' , ' xxmaj caseback : xxmaj screwed in ' , ' xxmaj water resistance:200 m ( 660 ft ) ' , ' xxmaj bezel : xxmaj unidirectional , ratcheted ' , ' xxmaj crown : xxmaj screw - locked , two gaskets ' , ' xxmaj crystal : xxmaj cambered sapphire , glareproofed both sides ' , ' xxmaj diameter:42.00 mm ' , ' xxmaj thickness:15.25 mm ' , ' xxmaj weight ( without strap):0.0 g. ' , ' xxmaj lug:20 / 18 mm ' ],xxbos [ ' xxmaj caliber : xxmaj breitling 13 ' , ' xxmaj movement : self - winding mechanical ' , ' xxmaj power reserve : approx . 42 hours ' , ' xxmaj chronograph:1 / 4th second , 30 minutes , 12 hours ' , ' xxmaj vibration:28,800 v.p.h ' , ' xxmaj jewel:25 jewels ' , ' xxmaj calendar : xxmaj dial aperture ' , ' xxmaj case : xxmaj steel with ceramic bezel ' , ' xxmaj caseback : xxmaj screwed in ' , ' xxmaj water resistance:200 m ( 660 ft ) ' , ' xxmaj bezel : xxmaj unidirectional ratcheted rotating bezel ' , ' xxmaj crown : xxmaj screw - locked , two gaskets ' , ' xxmaj crystal : xxmaj cambered sapphire , glareproofed both sides ' , ' xxmaj diameter:46.00 mm ' , ' xxmaj thickness:16.35 mm ' , ' xxmaj lug:24 / 20 mm ' ]\n",
              "y: LMLabelList\n",
              ",,,,\n",
              "Path: ."
            ]
          },
          "metadata": {
            "tags": []
          },
          "execution_count": 17
        }
      ]
    },
    {
      "cell_type": "code",
      "metadata": {
        "id": "d19QjPZPNELd",
        "colab_type": "code",
        "colab": {}
      },
      "source": [
        "learn.save('/content/drive/My Drive/ulmfit')"
      ],
      "execution_count": 0,
      "outputs": []
    },
    {
      "cell_type": "code",
      "metadata": {
        "id": "Sw9tsq39V2AJ",
        "colab_type": "code",
        "outputId": "a353421a-5c07-409a-c969-713ced655116",
        "colab": {
          "base_uri": "https://localhost:8080/",
          "height": 1000
        }
      },
      "source": [
        "learn.load('/content/drive/My Drive/Bert Training/here')"
      ],
      "execution_count": 0,
      "outputs": [
        {
          "output_type": "execute_result",
          "data": {
            "text/plain": [
              "LanguageLearner(data=TextLMDataBunch;\n",
              "\n",
              "Train: LabelList (2877 items)\n",
              "x: LMTextList\n",
              "xxbos [ ' xxmaj caliber : xxmaj breitling 13 ' , ' xxmaj movement : self - winding mechanical ' , ' xxmaj power reserve : approx . 42 hours ' , ' xxmaj chronograph:1 / 4th second , 30 minutes , 12 hours ' , ' xxmaj vibration:28,800 v.p.h ' , ' xxmaj jewel:25 jewels ' , ' xxmaj calendar : xxmaj dial aperture ' , ' xxmaj case : xxmaj steel ' , ' xxmaj caseback : xxmaj screwed in ' , ' xxmaj water resistance:200 m ( 660 ft ) ' , ' xxmaj bezel : xxmaj unidirectional , ratcheted ' , ' xxmaj crown : xxmaj screw - locked , two gaskets ' , ' xxmaj crystal : xxmaj cambered sapphire , glareproofed both sides ' , ' xxmaj diameter:42.00 mm ' , ' xxmaj thickness:15.25 mm ' , ' xxmaj lug:20 / 18 mm ' ],xxbos [ ' xxmaj caliber : xxmaj breitling 13 ' , ' xxmaj movement : self - winding mechanical ' , ' xxmaj power reserve : approx . 42 hours ' , ' xxmaj chronograph:1 / 4th second , 30 minutes , 12 hours ' , ' xxmaj vibration:28,800 v.p.h ' , ' xxmaj jewel:25 jewels ' , ' xxmaj calendar : xxmaj dial aperture ' , ' xxmaj case : xxmaj steel ' , ' xxmaj caseback : xxmaj screwed in ' , ' xxmaj water resistance:200 m ( 660 ft ) ' , ' xxmaj bezel : xxmaj unidirectional , ratcheted ' , ' xxmaj crown : xxmaj screw - locked , two gaskets ' , ' xxmaj crystal : xxmaj cambered sapphire , glareproofed both sides ' , ' xxmaj diameter:42.00 mm ' , ' xxmaj thickness:15.25 mm ' , ' xxmaj weight ( without strap):0.0 g. ' , ' xxmaj lug:20 / 18 mm ' ],xxbos [ ' xxmaj caliber : xxmaj breitling 13 ' , ' xxmaj movement : self - winding mechanical ' , ' xxmaj power reserve : approx . 42 hours ' , ' xxmaj chronograph:1 / 4th second , 30 minutes , 12 hours ' , ' xxmaj vibration:28,800 v.p.h ' , ' xxmaj jewel:25 jewels ' , ' xxmaj calendar : xxmaj dial aperture ' , ' xxmaj case : xxmaj steel ' , ' xxmaj caseback : xxmaj screwed in ' , ' xxmaj water resistance:200 m ( 660 ft ) ' , ' xxmaj bezel : xxmaj unidirectional , ratcheted ' , ' xxmaj crown : xxmaj screw - locked , two gaskets ' , ' xxmaj crystal : xxmaj cambered sapphire , glareproofed both sides ' , ' xxmaj diameter:42.00 mm ' , ' xxmaj thickness:15.25 mm ' , ' xxmaj lug:20 / 18 mm ' ],xxbos [ ' xxmaj caliber : xxmaj breitling 13 ' , ' xxmaj movement : self - winding mechanical ' , ' xxmaj power reserve : approx . 42 hours ' , ' xxmaj chronograph:1 / 4th second , 30 minutes , 12 hours ' , ' xxmaj vibration:28,800 v.p.h ' , ' xxmaj jewel:25 jewels ' , ' xxmaj calendar : xxmaj dial aperture ' , ' xxmaj case : xxmaj steel ' , ' xxmaj caseback : xxmaj screwed in ' , ' xxmaj water resistance:200 m ( 660 ft ) ' , ' xxmaj bezel : xxmaj unidirectional , ratcheted ' , ' xxmaj crown : xxmaj screw - locked , two gaskets ' , ' xxmaj crystal : xxmaj cambered sapphire , glareproofed both sides ' , ' xxmaj diameter:42.00 mm ' , ' xxmaj thickness:15.25 mm ' , ' xxmaj weight ( without strap):0.0 g. ' , ' xxmaj lug:20 / 18 mm ' ],xxbos [ ' xxmaj caliber : xxmaj breitling 13 ' , ' xxmaj movement : self - winding mechanical ' , ' xxmaj power reserve : approx . 42 hours ' , ' xxmaj chronograph:1 / 4th second , 30 minutes , 12 hours ' , ' xxmaj vibration:28,800 v.p.h ' , ' xxmaj jewel:25 jewels ' , ' xxmaj calendar : xxmaj dial aperture ' , ' xxmaj case : xxmaj steel with ceramic bezel ' , ' xxmaj caseback : xxmaj screwed in ' , ' xxmaj water resistance:200 m ( 660 ft ) ' , ' xxmaj bezel : xxmaj unidirectional ratcheted rotating bezel ' , ' xxmaj crown : xxmaj screw - locked , two gaskets ' , ' xxmaj crystal : xxmaj cambered sapphire , glareproofed both sides ' , ' xxmaj diameter:46.00 mm ' , ' xxmaj thickness:16.35 mm ' , ' xxmaj lug:24 / 20 mm ' ]\n",
              "y: LMLabelList\n",
              ",,,,\n",
              "Path: .;\n",
              "\n",
              "Valid: LabelList (719 items)\n",
              "x: LMTextList\n",
              "xxbos [ ' xxmaj caliber : xxmaj breitling 17 ' , ' xxmaj movement : self - winding mechanical ' , ' xxmaj power reserve : approx . 38 hrs ' , ' xxmaj vibration:28,800 v.p.h ' , ' xxmaj jewel:25 jewels ' , ' xxmaj calendar : xxmaj dial aperture ' , ' xxmaj case : xxmaj steel ' , ' xxmaj caseback : xxmaj screwed in ' , ' xxmaj water resistance:500 m ( 1,650 ft ) ' , ' xxmaj bezel : xxmaj unidirectional , ratcheted ' , ' xxmaj crown : xxmaj screw - locked , two gaskets ' , ' xxmaj crystal : xxmaj cambered sapphire , glareproofed both sides ' , ' xxmaj diameter:42.00 mm ' , ' xxmaj thickness:13.30 mm ' , ' xxmaj weight ( without strap):120.00 g. ' , ' xxmaj lug:20 / 18 mm ' ],xxbos [ ' xxmaj caliber : xxmaj breitling 13 ' , ' xxmaj movement : self - winding mechanical ' , ' xxmaj power reserve : approx . 42 hours ' , ' xxmaj chronograph:1 / 4th second , 30 minutes , 12 hours ' , ' xxmaj vibration:28,800 v.p.h ' , ' xxmaj jewel:25 jewels ' , ' xxmaj calendar : xxmaj dial aperture ' , ' xxmaj case : xxmaj steel ' , ' xxmaj water resistance:300 m ( 1,000 ft ) ' , ' xxmaj crown : xxmaj screw - locked , two gaskets ' , ' xxmaj crystal : xxmaj cambered sapphire , glareproofed both sides ' , ' xxmaj diameter:45.00 mm ' , ' xxmaj thickness:16.46 mm ' , ' xxmaj weight ( without strap):240.00 g. ' ],xxbos [ ' xxmaj caliber : xxmaj breitling xxup b55 ( xxmaj manufacture ) ' , ' xxmaj movement : superquartz ™ , thermocompensated quartz electronic , analog and 12 / 24hr xxup lcd digital display , backlighting ( white light ) , battery state - of - charge indicator ' , ' xxmaj chronograph:1 / 100th second , max . 99 hrs 59 min . 59 sec . , flyback function , electronic tachymeter , chronograph ( lap timer , flight times ) ' , ' xxmaj calendar : digital , perpetual , with weeks indication ' , ' xxmaj other functions : countdown timer , 7 daily alarms , countdown / countup xxmaj clock , ( max . 99 days , 23 hrs 59 min . 59.99 sec . ) with independent alarm , xxup utc worldtime ; pairing possiblity ( xxmaj bluetooth xxmaj low xxmaj energy ) with a smartphone ( dedicated xxmaj application ) for data transfer and « remote » settings ' , ' xxmaj case : xxmaj titanium ' , ' xxmaj caseback : xxmaj with screws ' , ' xxmaj battery type / life:10 years ' , ' xxmaj connectivity : xxmaj bluetooth xxmaj low xxmaj energy ( xxup ble ) ' , ' xxmaj water resistance:100 m ( 330 ft ) ' , ' xxmaj bezel : xxmaj bidirectional ratcheted ' , ' xxmaj crown : xxmaj non screw - locked , two gaskets , integrated pushpiece ' , ' xxmaj crystal : xxmaj sapphire , glareproofed both sides ' , ' xxmaj diameter:46.00 mm ' , ' xxmaj thickness:15.25 mm ' , ' xxmaj weight ( without strap):100.00 g. ' , ' xxmaj lug:24 / 20 mm ' ],xxbos [ ' xxmaj caliber : xxmaj breitling 13 ' , ' xxmaj movement : self - winding mechanical ' , ' xxmaj power reserve : approx . 48 hrs ' , ' xxmaj chronograph:1 / 4th second , 30 minutes , 12 hours ' , ' xxmaj vibration:28,800 v.p.h ' , ' xxmaj jewel:25 jewels ' , ' xxmaj calendar : xxmaj dial aperture ' , ' xxmaj case : xxmaj steel , steel & gold ' , ' xxmaj caseback : xxmaj screwed in ' , ' xxmaj water resistance:200 m ( 660 ft ) ' , ' xxmaj bezel : xxmaj unidirectional , ratcheted ' , ' xxmaj crown : xxmaj screw - locked , two gaskets ' , ' xxmaj crystal : xxmaj cambered sapphire , glareproofed both sides ' , ' xxmaj diameter:44.00 mm ' , ' xxmaj thickness:15.65 mm ' , ' xxmaj weight ( without strap):191.20 g. ' , ' xxmaj lug:22 / 20 mm ' ],xxbos [ ' xxmaj caliber : xxmaj breitling 17 ' , ' xxmaj movement : self - winding mechanical ' , ' xxmaj power reserve : approx . 38 hrs ' , ' xxmaj vibration:28,800 v.p.h ' , ' xxmaj jewel:25 jewels ' , ' xxmaj calendar : xxmaj dial aperture ' , ' xxmaj case : xxmaj steel ' , ' xxmaj water resistance:100 m ( 330 ft ) ' , ' xxmaj bezel : xxmaj bidirectional ' , ' xxmaj crown : xxmaj screw - locked , two gaskets ' , ' xxmaj crystal : xxmaj cambered sapphire , glareproofed both sides ' , ' xxmaj diameter:41.00 mm ' , ' xxmaj thickness:10.74 mm ' , ' xxmaj weight ( without strap):100.00 g. ' , ' xxmaj lug:21 / 18 mm ' ]\n",
              "y: LMLabelList\n",
              ",,,,\n",
              "Path: .;\n",
              "\n",
              "Test: None, model=SequentialRNN(\n",
              "  (0): AWD_LSTM(\n",
              "    (encoder): Embedding(464, 400, padding_idx=1)\n",
              "    (encoder_dp): EmbeddingDropout(\n",
              "      (emb): Embedding(464, 400, padding_idx=1)\n",
              "    )\n",
              "    (rnns): ModuleList(\n",
              "      (0): WeightDropout(\n",
              "        (module): LSTM(400, 1152, batch_first=True)\n",
              "      )\n",
              "      (1): WeightDropout(\n",
              "        (module): LSTM(1152, 1152, batch_first=True)\n",
              "      )\n",
              "      (2): WeightDropout(\n",
              "        (module): LSTM(1152, 400, batch_first=True)\n",
              "      )\n",
              "    )\n",
              "    (input_dp): RNNDropout()\n",
              "    (hidden_dps): ModuleList(\n",
              "      (0): RNNDropout()\n",
              "      (1): RNNDropout()\n",
              "      (2): RNNDropout()\n",
              "    )\n",
              "  )\n",
              "  (1): LinearDecoder(\n",
              "    (decoder): Linear(in_features=400, out_features=464, bias=True)\n",
              "    (output_dp): RNNDropout()\n",
              "  )\n",
              "), opt_func=functools.partial(<class 'torch.optim.adam.Adam'>, betas=(0.9, 0.99)), loss_func=FlattenedLoss of CrossEntropyLoss(), metrics=[<function accuracy at 0x7fdc9be30ae8>], true_wd=True, bn_wd=True, wd=0.01, train_bn=True, path=PosixPath('.'), model_dir='models', callback_fns=[functools.partial(<class 'fastai.basic_train.Recorder'>, add_time=True, silent=False)], callbacks=[RNNTrainer\n",
              "learn: LanguageLearner(data=TextLMDataBunch;\n",
              "\n",
              "Train: LabelList (2877 items)\n",
              "x: LMTextList\n",
              "xxbos [ ' xxmaj caliber : xxmaj breitling 13 ' , ' xxmaj movement : self - winding mechanical ' , ' xxmaj power reserve : approx . 42 hours ' , ' xxmaj chronograph:1 / 4th second , 30 minutes , 12 hours ' , ' xxmaj vibration:28,800 v.p.h ' , ' xxmaj jewel:25 jewels ' , ' xxmaj calendar : xxmaj dial aperture ' , ' xxmaj case : xxmaj steel ' , ' xxmaj caseback : xxmaj screwed in ' , ' xxmaj water resistance:200 m ( 660 ft ) ' , ' xxmaj bezel : xxmaj unidirectional , ratcheted ' , ' xxmaj crown : xxmaj screw - locked , two gaskets ' , ' xxmaj crystal : xxmaj cambered sapphire , glareproofed both sides ' , ' xxmaj diameter:42.00 mm ' , ' xxmaj thickness:15.25 mm ' , ' xxmaj lug:20 / 18 mm ' ],xxbos [ ' xxmaj caliber : xxmaj breitling 13 ' , ' xxmaj movement : self - winding mechanical ' , ' xxmaj power reserve : approx . 42 hours ' , ' xxmaj chronograph:1 / 4th second , 30 minutes , 12 hours ' , ' xxmaj vibration:28,800 v.p.h ' , ' xxmaj jewel:25 jewels ' , ' xxmaj calendar : xxmaj dial aperture ' , ' xxmaj case : xxmaj steel ' , ' xxmaj caseback : xxmaj screwed in ' , ' xxmaj water resistance:200 m ( 660 ft ) ' , ' xxmaj bezel : xxmaj unidirectional , ratcheted ' , ' xxmaj crown : xxmaj screw - locked , two gaskets ' , ' xxmaj crystal : xxmaj cambered sapphire , glareproofed both sides ' , ' xxmaj diameter:42.00 mm ' , ' xxmaj thickness:15.25 mm ' , ' xxmaj weight ( without strap):0.0 g. ' , ' xxmaj lug:20 / 18 mm ' ],xxbos [ ' xxmaj caliber : xxmaj breitling 13 ' , ' xxmaj movement : self - winding mechanical ' , ' xxmaj power reserve : approx . 42 hours ' , ' xxmaj chronograph:1 / 4th second , 30 minutes , 12 hours ' , ' xxmaj vibration:28,800 v.p.h ' , ' xxmaj jewel:25 jewels ' , ' xxmaj calendar : xxmaj dial aperture ' , ' xxmaj case : xxmaj steel ' , ' xxmaj caseback : xxmaj screwed in ' , ' xxmaj water resistance:200 m ( 660 ft ) ' , ' xxmaj bezel : xxmaj unidirectional , ratcheted ' , ' xxmaj crown : xxmaj screw - locked , two gaskets ' , ' xxmaj crystal : xxmaj cambered sapphire , glareproofed both sides ' , ' xxmaj diameter:42.00 mm ' , ' xxmaj thickness:15.25 mm ' , ' xxmaj lug:20 / 18 mm ' ],xxbos [ ' xxmaj caliber : xxmaj breitling 13 ' , ' xxmaj movement : self - winding mechanical ' , ' xxmaj power reserve : approx . 42 hours ' , ' xxmaj chronograph:1 / 4th second , 30 minutes , 12 hours ' , ' xxmaj vibration:28,800 v.p.h ' , ' xxmaj jewel:25 jewels ' , ' xxmaj calendar : xxmaj dial aperture ' , ' xxmaj case : xxmaj steel ' , ' xxmaj caseback : xxmaj screwed in ' , ' xxmaj water resistance:200 m ( 660 ft ) ' , ' xxmaj bezel : xxmaj unidirectional , ratcheted ' , ' xxmaj crown : xxmaj screw - locked , two gaskets ' , ' xxmaj crystal : xxmaj cambered sapphire , glareproofed both sides ' , ' xxmaj diameter:42.00 mm ' , ' xxmaj thickness:15.25 mm ' , ' xxmaj weight ( without strap):0.0 g. ' , ' xxmaj lug:20 / 18 mm ' ],xxbos [ ' xxmaj caliber : xxmaj breitling 13 ' , ' xxmaj movement : self - winding mechanical ' , ' xxmaj power reserve : approx . 42 hours ' , ' xxmaj chronograph:1 / 4th second , 30 minutes , 12 hours ' , ' xxmaj vibration:28,800 v.p.h ' , ' xxmaj jewel:25 jewels ' , ' xxmaj calendar : xxmaj dial aperture ' , ' xxmaj case : xxmaj steel with ceramic bezel ' , ' xxmaj caseback : xxmaj screwed in ' , ' xxmaj water resistance:200 m ( 660 ft ) ' , ' xxmaj bezel : xxmaj unidirectional ratcheted rotating bezel ' , ' xxmaj crown : xxmaj screw - locked , two gaskets ' , ' xxmaj crystal : xxmaj cambered sapphire , glareproofed both sides ' , ' xxmaj diameter:46.00 mm ' , ' xxmaj thickness:16.35 mm ' , ' xxmaj lug:24 / 20 mm ' ]\n",
              "y: LMLabelList\n",
              ",,,,\n",
              "Path: .;\n",
              "\n",
              "Valid: LabelList (719 items)\n",
              "x: LMTextList\n",
              "xxbos [ ' xxmaj caliber : xxmaj breitling 17 ' , ' xxmaj movement : self - winding mechanical ' , ' xxmaj power reserve : approx . 38 hrs ' , ' xxmaj vibration:28,800 v.p.h ' , ' xxmaj jewel:25 jewels ' , ' xxmaj calendar : xxmaj dial aperture ' , ' xxmaj case : xxmaj steel ' , ' xxmaj caseback : xxmaj screwed in ' , ' xxmaj water resistance:500 m ( 1,650 ft ) ' , ' xxmaj bezel : xxmaj unidirectional , ratcheted ' , ' xxmaj crown : xxmaj screw - locked , two gaskets ' , ' xxmaj crystal : xxmaj cambered sapphire , glareproofed both sides ' , ' xxmaj diameter:42.00 mm ' , ' xxmaj thickness:13.30 mm ' , ' xxmaj weight ( without strap):120.00 g. ' , ' xxmaj lug:20 / 18 mm ' ],xxbos [ ' xxmaj caliber : xxmaj breitling 13 ' , ' xxmaj movement : self - winding mechanical ' , ' xxmaj power reserve : approx . 42 hours ' , ' xxmaj chronograph:1 / 4th second , 30 minutes , 12 hours ' , ' xxmaj vibration:28,800 v.p.h ' , ' xxmaj jewel:25 jewels ' , ' xxmaj calendar : xxmaj dial aperture ' , ' xxmaj case : xxmaj steel ' , ' xxmaj water resistance:300 m ( 1,000 ft ) ' , ' xxmaj crown : xxmaj screw - locked , two gaskets ' , ' xxmaj crystal : xxmaj cambered sapphire , glareproofed both sides ' , ' xxmaj diameter:45.00 mm ' , ' xxmaj thickness:16.46 mm ' , ' xxmaj weight ( without strap):240.00 g. ' ],xxbos [ ' xxmaj caliber : xxmaj breitling xxup b55 ( xxmaj manufacture ) ' , ' xxmaj movement : superquartz ™ , thermocompensated quartz electronic , analog and 12 / 24hr xxup lcd digital display , backlighting ( white light ) , battery state - of - charge indicator ' , ' xxmaj chronograph:1 / 100th second , max . 99 hrs 59 min . 59 sec . , flyback function , electronic tachymeter , chronograph ( lap timer , flight times ) ' , ' xxmaj calendar : digital , perpetual , with weeks indication ' , ' xxmaj other functions : countdown timer , 7 daily alarms , countdown / countup xxmaj clock , ( max . 99 days , 23 hrs 59 min . 59.99 sec . ) with independent alarm , xxup utc worldtime ; pairing possiblity ( xxmaj bluetooth xxmaj low xxmaj energy ) with a smartphone ( dedicated xxmaj application ) for data transfer and « remote » settings ' , ' xxmaj case : xxmaj titanium ' , ' xxmaj caseback : xxmaj with screws ' , ' xxmaj battery type / life:10 years ' , ' xxmaj connectivity : xxmaj bluetooth xxmaj low xxmaj energy ( xxup ble ) ' , ' xxmaj water resistance:100 m ( 330 ft ) ' , ' xxmaj bezel : xxmaj bidirectional ratcheted ' , ' xxmaj crown : xxmaj non screw - locked , two gaskets , integrated pushpiece ' , ' xxmaj crystal : xxmaj sapphire , glareproofed both sides ' , ' xxmaj diameter:46.00 mm ' , ' xxmaj thickness:15.25 mm ' , ' xxmaj weight ( without strap):100.00 g. ' , ' xxmaj lug:24 / 20 mm ' ],xxbos [ ' xxmaj caliber : xxmaj breitling 13 ' , ' xxmaj movement : self - winding mechanical ' , ' xxmaj power reserve : approx . 48 hrs ' , ' xxmaj chronograph:1 / 4th second , 30 minutes , 12 hours ' , ' xxmaj vibration:28,800 v.p.h ' , ' xxmaj jewel:25 jewels ' , ' xxmaj calendar : xxmaj dial aperture ' , ' xxmaj case : xxmaj steel , steel & gold ' , ' xxmaj caseback : xxmaj screwed in ' , ' xxmaj water resistance:200 m ( 660 ft ) ' , ' xxmaj bezel : xxmaj unidirectional , ratcheted ' , ' xxmaj crown : xxmaj screw - locked , two gaskets ' , ' xxmaj crystal : xxmaj cambered sapphire , glareproofed both sides ' , ' xxmaj diameter:44.00 mm ' , ' xxmaj thickness:15.65 mm ' , ' xxmaj weight ( without strap):191.20 g. ' , ' xxmaj lug:22 / 20 mm ' ],xxbos [ ' xxmaj caliber : xxmaj breitling 17 ' , ' xxmaj movement : self - winding mechanical ' , ' xxmaj power reserve : approx . 38 hrs ' , ' xxmaj vibration:28,800 v.p.h ' , ' xxmaj jewel:25 jewels ' , ' xxmaj calendar : xxmaj dial aperture ' , ' xxmaj case : xxmaj steel ' , ' xxmaj water resistance:100 m ( 330 ft ) ' , ' xxmaj bezel : xxmaj bidirectional ' , ' xxmaj crown : xxmaj screw - locked , two gaskets ' , ' xxmaj crystal : xxmaj cambered sapphire , glareproofed both sides ' , ' xxmaj diameter:41.00 mm ' , ' xxmaj thickness:10.74 mm ' , ' xxmaj weight ( without strap):100.00 g. ' , ' xxmaj lug:21 / 18 mm ' ]\n",
              "y: LMLabelList\n",
              ",,,,\n",
              "Path: .;\n",
              "\n",
              "Test: None, model=SequentialRNN(\n",
              "  (0): AWD_LSTM(\n",
              "    (encoder): Embedding(464, 400, padding_idx=1)\n",
              "    (encoder_dp): EmbeddingDropout(\n",
              "      (emb): Embedding(464, 400, padding_idx=1)\n",
              "    )\n",
              "    (rnns): ModuleList(\n",
              "      (0): WeightDropout(\n",
              "        (module): LSTM(400, 1152, batch_first=True)\n",
              "      )\n",
              "      (1): WeightDropout(\n",
              "        (module): LSTM(1152, 1152, batch_first=True)\n",
              "      )\n",
              "      (2): WeightDropout(\n",
              "        (module): LSTM(1152, 400, batch_first=True)\n",
              "      )\n",
              "    )\n",
              "    (input_dp): RNNDropout()\n",
              "    (hidden_dps): ModuleList(\n",
              "      (0): RNNDropout()\n",
              "      (1): RNNDropout()\n",
              "      (2): RNNDropout()\n",
              "    )\n",
              "  )\n",
              "  (1): LinearDecoder(\n",
              "    (decoder): Linear(in_features=400, out_features=464, bias=True)\n",
              "    (output_dp): RNNDropout()\n",
              "  )\n",
              "), opt_func=functools.partial(<class 'torch.optim.adam.Adam'>, betas=(0.9, 0.99)), loss_func=FlattenedLoss of CrossEntropyLoss(), metrics=[<function accuracy at 0x7fdc9be30ae8>], true_wd=True, bn_wd=True, wd=0.01, train_bn=True, path=PosixPath('.'), model_dir='models', callback_fns=[functools.partial(<class 'fastai.basic_train.Recorder'>, add_time=True, silent=False)], callbacks=[...], layer_groups=[Sequential(\n",
              "  (0): WeightDropout(\n",
              "    (module): LSTM(400, 1152, batch_first=True)\n",
              "  )\n",
              "  (1): RNNDropout()\n",
              "), Sequential(\n",
              "  (0): WeightDropout(\n",
              "    (module): LSTM(1152, 1152, batch_first=True)\n",
              "  )\n",
              "  (1): RNNDropout()\n",
              "), Sequential(\n",
              "  (0): WeightDropout(\n",
              "    (module): LSTM(1152, 400, batch_first=True)\n",
              "  )\n",
              "  (1): RNNDropout()\n",
              "), Sequential(\n",
              "  (0): Embedding(464, 400, padding_idx=1)\n",
              "  (1): EmbeddingDropout(\n",
              "    (emb): Embedding(464, 400, padding_idx=1)\n",
              "  )\n",
              "  (2): LinearDecoder(\n",
              "    (decoder): Linear(in_features=400, out_features=464, bias=True)\n",
              "    (output_dp): RNNDropout()\n",
              "  )\n",
              ")], add_time=True, silent=False)\n",
              "alpha: 2.0\n",
              "beta: 1.0], layer_groups=[Sequential(\n",
              "  (0): WeightDropout(\n",
              "    (module): LSTM(400, 1152, batch_first=True)\n",
              "  )\n",
              "  (1): RNNDropout()\n",
              "), Sequential(\n",
              "  (0): WeightDropout(\n",
              "    (module): LSTM(1152, 1152, batch_first=True)\n",
              "  )\n",
              "  (1): RNNDropout()\n",
              "), Sequential(\n",
              "  (0): WeightDropout(\n",
              "    (module): LSTM(1152, 400, batch_first=True)\n",
              "  )\n",
              "  (1): RNNDropout()\n",
              "), Sequential(\n",
              "  (0): Embedding(464, 400, padding_idx=1)\n",
              "  (1): EmbeddingDropout(\n",
              "    (emb): Embedding(464, 400, padding_idx=1)\n",
              "  )\n",
              "  (2): LinearDecoder(\n",
              "    (decoder): Linear(in_features=400, out_features=464, bias=True)\n",
              "    (output_dp): RNNDropout()\n",
              "  )\n",
              ")], add_time=True, silent=False)"
            ]
          },
          "metadata": {
            "tags": []
          },
          "execution_count": 12
        }
      ]
    },
    {
      "cell_type": "code",
      "metadata": {
        "id": "qHOmRUPDV2dF",
        "colab_type": "code",
        "colab": {}
      },
      "source": [
        "def process_doc(learn, doc):\n",
        "    xb, yb = learn.data.one_item(doc)\n",
        "    return xb\n",
        "\n",
        "def encode_doc(learn, doc):\n",
        "    xb = process_doc(learn, doc)\n",
        "    # Reset initializes the hidden state\n",
        "    awd_lstm = learn.model[0]\n",
        "    awd_lstm.reset()\n",
        "    with torch.no_grad():\n",
        "        out = awd_lstm.eval()(xb)\n",
        "    # Return final output, for last RNN, on last token in sequence\n",
        "    return out[0][2][0][-1].detach()"
      ],
      "execution_count": 0,
      "outputs": []
    },
    {
      "cell_type": "code",
      "metadata": {
        "id": "yKQPhyY0yMhi",
        "colab_type": "code",
        "colab": {}
      },
      "source": [
        "corpus = df['Specs']"
      ],
      "execution_count": 0,
      "outputs": []
    },
    {
      "cell_type": "code",
      "metadata": {
        "id": "Ecqbs-2Bwli6",
        "colab_type": "code",
        "colab": {}
      },
      "source": [
        "corpus_embeddings = encode_doc(learn, df['Specs'])"
      ],
      "execution_count": 0,
      "outputs": []
    },
    {
      "cell_type": "code",
      "metadata": {
        "id": "LhSZoGJ2wldI",
        "colab_type": "code",
        "colab": {}
      },
      "source": [
        "queries = [df.Specs[0], df.Specs[1900], df.Specs[200]]\n",
        "query_embeddings = model.encode(queries)"
      ],
      "execution_count": 0,
      "outputs": []
    },
    {
      "cell_type": "code",
      "metadata": {
        "id": "Df65zgIywlar",
        "colab_type": "code",
        "outputId": "11ec6f64-e953-4613-abd4-403c5548096f",
        "colab": {
          "base_uri": "https://localhost:8080/",
          "height": 711
        }
      },
      "source": [
        "closest_n = 5\n",
        "for query, query_embedding in zip(queries, query_embeddings):\n",
        "    distances = scipy.spatial.distance.cdist([query_embedding], corpus_embeddings, \"cosine\")[0]\n",
        "\n",
        "    results = zip(range(len(distances)), distances)\n",
        "    results = sorted(results, key=lambda x: x[1])\n",
        "\n",
        "    print(\"\\n\\n======================\\n\\n\")\n",
        "    print(\"Query:\", query)\n",
        "    print(\"\\nMost similar sentence in corpus:\")\n",
        "\n",
        "    for idx, distance in results[0:closest_n]:\n",
        "        print(corpus[idx].strip(), \"(Score: %.4f)\" % (1-distance))"
      ],
      "execution_count": 0,
      "outputs": [
        {
          "output_type": "stream",
          "text": [
            "\n",
            "\n",
            "======================\n",
            "\n",
            "\n",
            "Query: ['Caliber:Breitling 13', 'Movement:self-winding mechanical', 'Power reserve:approx. 42 hours', 'Chronograph:1/4th second, 30 minutes, 12 hours', 'Vibration:28,800 v.p.h', 'Jewel:25 jewels', 'Calendar:Dial aperture', 'Case:Steel', 'Caseback:Screwed in', 'Water resistance:200 m (660 ft)', 'Bezel:Unidirectional, ratcheted', 'Crown:Screw-locked, two gaskets', 'Crystal:Cambered sapphire, glareproofed both sides', 'Diameter:42.00 mm', 'Thickness:15.25 mm', 'Lug:20/18 mm']\n",
            "\n",
            "Most similar sentence in corpus:\n",
            "['Caliber:Breitling 13', 'Movement:self-winding mechanical', 'Power reserve:approx. 42 hours', 'Chronograph:1/4th second, 30 minutes, 12 hours', 'Vibration:28,800 v.p.h', 'Jewel:25 jewels', 'Calendar:Dial aperture', 'Case:Steel', 'Caseback:Screwed in', 'Water resistance:200 m (660 ft)', 'Bezel:Unidirectional, ratcheted', 'Crown:Screw-locked, two gaskets', 'Crystal:Cambered sapphire, glareproofed both sides', 'Diameter:42.00 mm', 'Thickness:15.25 mm', 'Lug:20/18 mm'] (Score: 1.0000)\n",
            "['Caliber:Breitling 13', 'Movement:self-winding mechanical', 'Power reserve:approx. 42 hours', 'Chronograph:1/4th second, 30 minutes, 12 hours', 'Vibration:28,800 v.p.h', 'Jewel:25 jewels', 'Calendar:Dial aperture', 'Case:Steel', 'Caseback:Screwed in', 'Water resistance:200 m (660 ft)', 'Bezel:Unidirectional, ratcheted', 'Crown:Screw-locked, two gaskets', 'Crystal:Cambered sapphire, glareproofed both sides', 'Diameter:42.00 mm', 'Thickness:15.25 mm', 'Weight (without strap):0.0 g.', 'Lug:20/18 mm'] (Score: 1.0000)\n",
            "['Caliber:Breitling 13', 'Movement:self-winding mechanical', 'Power reserve:approx. 42 hours', 'Chronograph:1/4th second, 30 minutes, 12 hours', 'Vibration:28,800 v.p.h', 'Jewel:25 jewels', 'Calendar:Dial aperture', 'Case:Steel', 'Caseback:Screwed in', 'Water resistance:200 m (660 ft)', 'Bezel:Unidirectional, ratcheted', 'Crown:Screw-locked, two gaskets', 'Crystal:Cambered sapphire, glareproofed both sides', 'Diameter:42.00 mm', 'Thickness:15.25 mm', 'Lug:20/18 mm'] (Score: 1.0000)\n",
            "['Caliber:Breitling 13', 'Movement:self-winding mechanical', 'Power reserve:approx. 42 hours', 'Chronograph:1/4th second, 30 minutes, 12 hours', 'Vibration:28,800 v.p.h', 'Jewel:25 jewels', 'Calendar:Dial aperture', 'Case:Steel', 'Caseback:Screwed in', 'Water resistance:200 m (660 ft)', 'Bezel:Unidirectional, ratcheted', 'Crown:Screw-locked, two gaskets', 'Crystal:Cambered sapphire, glareproofed both sides', 'Diameter:42.00 mm', 'Thickness:15.25 mm', 'Weight (without strap):0.0 g.', 'Lug:20/18 mm'] (Score: 1.0000)\n",
            "['Caliber:Breitling 13', 'Movement:self-winding mechanical', 'Power reserve:approx. 42 hours', 'Chronograph:1/4th second, 30 minutes, 12 hours', 'Vibration:28,800 v.p.h', 'Jewel:25 jewels', 'Calendar:Dial aperture', 'Case:Steel', 'Caseback:Screwed in', 'Water resistance:300 m (1,000 ft)', 'Bezel:Unidirectional, ratcheted', 'Crown:Screw-locked, two gaskets', 'Crystal:Cambered sapphire, glareproofed both sides', 'Diameter:48.00 mm', 'Thickness:17.75 mm', 'Lug:24/20 mm'] (Score: 0.9977)\n",
            "\n",
            "\n",
            "======================\n",
            "\n",
            "\n",
            "Query: ['Caliber:Breitling 13', 'Movement:self-winding mechanical', 'Power reserve:approx. 48 hrs', 'Chronograph:1/4th second, 30 minutes, 12 hours', 'Vibration:28,800 v.p.h', 'Jewel:25 jewels', 'Calendar:Dial aperture', 'Case:Steel', 'Water resistance:100 m (330 ft)', 'Bezel:Bidirectional', 'Crown:Screw-locked, two gaskets', 'Crystal:Cambered sapphire, glareproofed both sides', 'Diameter:43.00 mm', 'Thickness:14.17 mm', 'Weight (without strap):116.00 g.', 'Lug:23/20 mm']\n",
            "\n",
            "Most similar sentence in corpus:\n",
            "['Caliber:Breitling 13', 'Movement:self-winding mechanical', 'Power reserve:approx. 48 hrs', 'Chronograph:1/4th second, 30 minutes, 12 hours', 'Vibration:28,800 v.p.h', 'Jewel:25 jewels', 'Calendar:Dial aperture', 'Case:Steel', 'Water resistance:100 m (330 ft)', 'Bezel:Bidirectional', 'Crown:Screw-locked, two gaskets', 'Crystal:Cambered sapphire, glareproofed both sides', 'Diameter:43.00 mm', 'Thickness:14.17 mm', 'Weight (without strap):114.00 g.', 'Lug:23/20 mm'] (Score: 1.0000)\n",
            "['Caliber:Breitling 13', 'Movement:self-winding mechanical', 'Power reserve:approx. 48 hrs', 'Chronograph:1/4th second, 30 minutes, 12 hours', 'Vibration:28,800 v.p.h', 'Jewel:25 jewels', 'Calendar:Dial aperture', 'Case:Steel', 'Water resistance:100 m (330 ft)', 'Bezel:Bidirectional', 'Crown:Screw-locked, two gaskets', 'Crystal:Cambered sapphire, glareproofed both sides', 'Diameter:43.00 mm', 'Thickness:14.17 mm', 'Weight (without strap):114.00 g.', 'Lug:23/20 mm'] (Score: 1.0000)\n",
            "['Caliber:Breitling 13', 'Movement:self-winding mechanical', 'Power reserve:approx. 48 hrs', 'Chronograph:1/4th second, 30 minutes, 12 hours', 'Vibration:28,800 v.p.h', 'Jewel:25 jewels', 'Calendar:Dial aperture', 'Case:Steel', 'Water resistance:100 m (330 ft)', 'Bezel:Bidirectional', 'Crown:Screw-locked, two gaskets', 'Crystal:Cambered sapphire, glareproofed both sides', 'Diameter:43.00 mm', 'Thickness:14.17 mm', 'Weight (without strap):114.00 g.', 'Lug:23/20 mm'] (Score: 1.0000)\n",
            "['Caliber:Breitling 13', 'Movement:self-winding mechanical', 'Power reserve:approx. 48 hrs', 'Chronograph:1/4th second, 30 minutes, 12 hours', 'Vibration:28,800 v.p.h', 'Jewel:25 jewels', 'Calendar:Dial aperture', 'Case:Steel', 'Water resistance:100 m (330 ft)', 'Bezel:Bidirectional', 'Crown:Screw-locked, two gaskets', 'Crystal:Cambered sapphire, glareproofed both sides', 'Diameter:43.00 mm', 'Thickness:14.17 mm', 'Weight (without strap):114.00 g.', 'Lug:23/20 mm'] (Score: 1.0000)\n",
            "['Caliber:Breitling 13', 'Movement:self-winding mechanical', 'Power reserve:approx. 48 hrs', 'Chronograph:1/4th second, 30 minutes, 12 hours', 'Vibration:28,800 v.p.h', 'Jewel:25 jewels', 'Calendar:Dial aperture', 'Case:Steel', 'Water resistance:100 m (330 ft)', 'Bezel:Bidirectional', 'Crown:Screw-locked, two gaskets', 'Crystal:Cambered sapphire, glareproofed both sides', 'Diameter:43.00 mm', 'Thickness:14.17 mm', 'Weight (without strap):120.00 g.', 'Lug:23/20 mm'] (Score: 1.0000)\n",
            "\n",
            "\n",
            "======================\n",
            "\n",
            "\n",
            "Query: ['Caliber:Breitling 13', 'Movement:self-winding mechanical', 'Power reserve:approx. 42 hours', 'Chronograph:1/4th second, 30 minutes, 12 hours', 'Vibration:28,800 v.p.h', 'Jewel:25 jewels', 'Calendar:Dial aperture', 'Case:Steel', 'Caseback:Screwed in', 'Water resistance:300 m (1,000 ft)', 'Bezel:Unidirectional, ratcheted', 'Crown:Screw-locked, two gaskets', 'Crystal:Cambered sapphire, glareproofed both sides', 'Diameter:43.00 mm', 'Thickness:16.50 mm', 'Weight (without strap):200.00 g.', 'Lug:22/20 mm']\n",
            "\n",
            "Most similar sentence in corpus:\n",
            "['Caliber:Breitling 13', 'Movement:self-winding mechanical', 'Power reserve:approx. 42 hours', 'Chronograph:1/4th second, 30 minutes, 12 hours', 'Vibration:28,800 v.p.h', 'Jewel:25 jewels', 'Calendar:Dial aperture', 'Case:Steel', 'Caseback:Screwed in', 'Water resistance:300 m (1,000 ft)', 'Bezel:Unidirectional, ratcheted', 'Crown:Screw-locked, two gaskets', 'Crystal:Cambered sapphire, glareproofed both sides', 'Diameter:48.00 mm', 'Thickness:17.75 mm', 'Lug:24/20 mm'] (Score: 1.0000)\n",
            "['Caliber:Breitling 13', 'Movement:self-winding mechanical', 'Power reserve:approx. 42 hours', 'Chronograph:1/4th second, 30 minutes, 12 hours', 'Vibration:28,800 v.p.h', 'Jewel:25 jewels', 'Calendar:Dial aperture', 'Case:Steel', 'Caseback:Screwed in', 'Water resistance:300 m (1,000 ft)', 'Bezel:Unidirectional, ratcheted', 'Crown:Screw-locked, two gaskets', 'Crystal:Cambered sapphire, glareproofed both sides', 'Diameter:48.00 mm', 'Thickness:17.75 mm', 'Lug:24/20 mm'] (Score: 1.0000)\n",
            "['Caliber:Breitling 13', 'Movement:self-winding mechanical', 'Power reserve:approx. 42 hours', 'Chronograph:1/4th second, 30 minutes, 12 hours', 'Vibration:28,800 v.p.h', 'Jewel:25 jewels', 'Calendar:Dial aperture', 'Case:Steel', 'Caseback:Screwed in', 'Water resistance:300 m (1,000 ft)', 'Bezel:Unidirectional, ratcheted', 'Crown:Screw-locked, two gaskets', 'Crystal:Cambered sapphire, glareproofed both sides', 'Diameter:48.00 mm', 'Thickness:17.75 mm', 'Lug:24/20 mm'] (Score: 1.0000)\n",
            "['Caliber:Breitling 13', 'Movement:self-winding mechanical', 'Power reserve:approx. 42 hours', 'Chronograph:1/4th second, 30 minutes, 12 hours', 'Vibration:28,800 v.p.h', 'Jewel:25 jewels', 'Calendar:Dial aperture', 'Case:Steel', 'Caseback:Screwed in', 'Water resistance:300 m (1,000 ft)', 'Bezel:Unidirectional, ratcheted', 'Crown:Screw-locked, two gaskets', 'Crystal:Cambered sapphire, glareproofed both sides', 'Diameter:48.00 mm', 'Thickness:17.75 mm', 'Weight (without strap):260.00 g.', 'Lug:24/20 mm'] (Score: 1.0000)\n",
            "['Caliber:Breitling 13', 'Movement:self-winding mechanical', 'Power reserve:approx. 42 hours', 'Chronograph:1/4th second, 30 minutes, 12 hours', 'Vibration:28,800 v.p.h', 'Jewel:25 jewels', 'Calendar:Dial aperture', 'Case:Steel', 'Caseback:Screwed in', 'Water resistance:300 m (1,000 ft)', 'Bezel:Unidirectional, ratcheted', 'Crown:Screw-locked, two gaskets', 'Crystal:Cambered sapphire, glareproofed both sides', 'Diameter:48.00 mm', 'Thickness:17.75 mm', 'Weight (without strap):260.00 g.', 'Lug:24/20 mm'] (Score: 1.0000)\n"
          ],
          "name": "stdout"
        }
      ]
    }
  ]
}